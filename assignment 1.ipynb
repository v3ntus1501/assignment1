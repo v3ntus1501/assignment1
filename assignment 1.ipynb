{
 "cells": [
  {
   "cell_type": "markdown",
   "metadata": {},
   "source": [
    "# Task 1 .Q 2\n"
   ]
  },
  {
   "cell_type": "code",
   "execution_count": 1,
   "metadata": {},
   "outputs": [
    {
     "name": "stdout",
     "output_type": "stream",
     "text": [
      "The Numbers are:\n",
      "2002\n",
      "2009\n",
      "2016\n",
      "2023\n",
      "2037\n",
      "2044\n",
      "2051\n",
      "2058\n",
      "2072\n",
      "2079\n",
      "2086\n",
      "2093\n",
      "2107\n",
      "2114\n",
      "2121\n",
      "2128\n",
      "2142\n",
      "2149\n",
      "2156\n",
      "2163\n",
      "2177\n",
      "2184\n",
      "2191\n",
      "2198\n",
      "2212\n",
      "2219\n",
      "2226\n",
      "2233\n",
      "2247\n",
      "2254\n",
      "2261\n",
      "2268\n",
      "2282\n",
      "2289\n",
      "2296\n",
      "2303\n",
      "2317\n",
      "2324\n",
      "2331\n",
      "2338\n",
      "2352\n",
      "2359\n",
      "2366\n",
      "2373\n",
      "2387\n",
      "2394\n",
      "2401\n",
      "2408\n",
      "2422\n",
      "2429\n",
      "2436\n",
      "2443\n",
      "2457\n",
      "2464\n",
      "2471\n",
      "2478\n",
      "2492\n",
      "2499\n",
      "2506\n",
      "2513\n",
      "2527\n",
      "2534\n",
      "2541\n",
      "2548\n",
      "2562\n",
      "2569\n",
      "2576\n",
      "2583\n",
      "2597\n",
      "2604\n",
      "2611\n",
      "2618\n",
      "2632\n",
      "2639\n",
      "2646\n",
      "2653\n",
      "2667\n",
      "2674\n",
      "2681\n",
      "2688\n",
      "2702\n",
      "2709\n",
      "2716\n",
      "2723\n",
      "2737\n",
      "2744\n",
      "2751\n",
      "2758\n",
      "2772\n",
      "2779\n",
      "2786\n",
      "2793\n",
      "2807\n",
      "2814\n",
      "2821\n",
      "2828\n",
      "2842\n",
      "2849\n",
      "2856\n",
      "2863\n",
      "2877\n",
      "2884\n",
      "2891\n",
      "2898\n",
      "2912\n",
      "2919\n",
      "2926\n",
      "2933\n",
      "2947\n",
      "2954\n",
      "2961\n",
      "2968\n",
      "2982\n",
      "2989\n",
      "2996\n",
      "3003\n",
      "3017\n",
      "3024\n",
      "3031\n",
      "3038\n",
      "3052\n",
      "3059\n",
      "3066\n",
      "3073\n",
      "3087\n",
      "3094\n",
      "3101\n",
      "3108\n",
      "3122\n",
      "3129\n",
      "3136\n",
      "3143\n",
      "3157\n",
      "3164\n",
      "3171\n",
      "3178\n",
      "3192\n",
      "3199\n"
     ]
    }
   ],
   "source": [
    "num = []\n",
    "for i in range(2000, 3201):\n",
    "    if i % 7 == 0 and i % 5 != 0:\n",
    "        num.append(i)\n",
    "\n",
    "print(\"The Numbers are:\")\n",
    "for j in num:\n",
    "    print(j)"
   ]
  },
  {
   "cell_type": "markdown",
   "metadata": {},
   "source": [
    "# Task 1 . Q 3"
   ]
  },
  {
   "cell_type": "code",
   "execution_count": 3,
   "metadata": {},
   "outputs": [
    {
     "name": "stdout",
     "output_type": "stream",
     "text": [
      "Enter Your First Name:Aditya \n",
      "Enter Your Last Name:Manthankar\n",
      "Manthankar Aditya  "
     ]
    }
   ],
   "source": [
    "user = []\n",
    "ch1 = input(\"Enter Your First Name:\")\n",
    "user.append(ch1)\n",
    "\n",
    "ch2 = input(\"Enter Your Last Name:\")\n",
    "user.append(ch2)\n",
    "for i in user[::-1]:\n",
    "    print(i, end=\" \")"
   ]
  },
  {
   "cell_type": "markdown",
   "metadata": {},
   "source": [
    "# Task 1 . Q 4"
   ]
  },
  {
   "cell_type": "code",
   "execution_count": 4,
   "metadata": {},
   "outputs": [
    {
     "name": "stdout",
     "output_type": "stream",
     "text": [
      "Enter Diameter of Sphere:12\n",
      "Given Diameter is 12.0 cm \n",
      "Volume Of Sphere :904.669776 cubic cm \n"
     ]
    }
   ],
   "source": [
    "d = float(input(\"Enter Diameter of Sphere:\"))\n",
    "print(\"Given Diameter is \" + str(d) + \" cm \")\n",
    "r = float(d / 2)\n",
    "V = float(1.333 * 3.142 * (r*r*r))\n",
    "print(\"Volume Of Sphere :\" + str(V) + \" cubic cm \")"
   ]
  },
  {
   "cell_type": "markdown",
   "metadata": {},
   "source": [
    "# Task 2 . Q 1"
   ]
  },
  {
   "cell_type": "code",
   "execution_count": 5,
   "metadata": {},
   "outputs": [
    {
     "name": "stdout",
     "output_type": "stream",
     "text": [
      "Enter The Number Separated By ',' : 1,258,36852\n",
      "['1', '258', '36852']\n"
     ]
    }
   ],
   "source": [
    "num = input(\"Enter The Number Separated By ',' : \")\n",
    "array = []\n",
    "c = 0\n",
    "i = 0\n",
    "while i < len(num):\n",
    "    if num[i] == ',':\n",
    "        array.append(m)\n",
    "        c = i + 1\n",
    "        i = i + 1\n",
    "    else:\n",
    "        m = num[c:i+1]\n",
    "        i = i + 1\n",
    "array.append(m)\n",
    "print(array)"
   ]
  },
  {
   "cell_type": "markdown",
   "metadata": {},
   "source": [
    "# Task 2 . Q 2"
   ]
  },
  {
   "cell_type": "code",
   "execution_count": 6,
   "metadata": {},
   "outputs": [
    {
     "name": "stdout",
     "output_type": "stream",
     "text": [
      "\n",
      "* \n",
      "* * \n",
      "* * * \n",
      "* * * * \n",
      "* * * * * \n",
      "* * * * \n",
      "* * * \n",
      "* * \n",
      "* \n",
      "\n"
     ]
    }
   ],
   "source": [
    "for i in range(6):\n",
    "    for j in range(i):\n",
    "        print(\"*\", end=\" \")\n",
    "    print()\n",
    "\n",
    "for i in range(5):\n",
    "    for j in range(5-i-1):\n",
    "        print(\"*\", end=\" \")\n",
    "    print()"
   ]
  },
  {
   "cell_type": "markdown",
   "metadata": {},
   "source": [
    "# Task 2 . Q 3"
   ]
  },
  {
   "cell_type": "code",
   "execution_count": 7,
   "metadata": {},
   "outputs": [
    {
     "name": "stdout",
     "output_type": "stream",
     "text": [
      "Enter Any Word : abcdr\n",
      " Input Word :  abcdr\n",
      " Output Word : \trdcba"
     ]
    }
   ],
   "source": [
    "user = str(input(\"Enter Any Word : \"))\n",
    "print(\" Input Word : \", user)\n",
    "print(\" Output Word : \", end=\"\\t\")\n",
    "for i in user[::-1]:\n",
    "    print(i, end=\"\")"
   ]
  },
  {
   "cell_type": "markdown",
   "metadata": {},
   "source": [
    "# Task 2 . Q 4"
   ]
  },
  {
   "cell_type": "code",
   "execution_count": 8,
   "metadata": {},
   "outputs": [
    {
     "name": "stdout",
     "output_type": "stream",
     "text": [
      "Given Sentence : WE, THE PEOPLE OF INDIA , having solemnly resolved to constitute India into SOVEREIGN, SOCIALIST, SECULAR , DEMOCRATIC REPUBLIC and to secure all its ctizens \n",
      "Desired Output: \n",
      "WE, THE PEOPLE OF INDIA ,\n",
      "\t  having solemnly resolved to constitute India into SOVEREIGN,\n",
      "\t  \t  \t SOCIALIST, SECULAR , DEMOCRATIC REPUBLIC\n",
      "\t  \t  \t  and to secure all its ctizens \n"
     ]
    }
   ],
   "source": [
    "ch = \"WE, THE PEOPLE OF INDIA , having solemnly resolved to constitute India into SOVEREIGN, SOCIALIST, SECULAR , \" \\\n",
    "     \"DEMOCRATIC REPUBLIC and to secure all its ctizens \"\n",
    "print(\"Given Sentence :\", ch)\n",
    "print(\"Desired Output: \")\n",
    "print(ch[:25])\n",
    "print(\"\\t  \" + ch[26:86])\n",
    "print(\"\\t  \\t  \\t \" + ch[87:127])\n",
    "print(\"\\t  \\t  \\t  \" + ch[128:])"
   ]
  },
  {
   "cell_type": "code",
   "execution_count": null,
   "metadata": {},
   "outputs": [],
   "source": []
  }
 ],
 "metadata": {
  "kernelspec": {
   "display_name": "Python 3",
   "language": "python",
   "name": "python3"
  },
  "language_info": {
   "codemirror_mode": {
    "name": "ipython",
    "version": 3
   },
   "file_extension": ".py",
   "mimetype": "text/x-python",
   "name": "python",
   "nbconvert_exporter": "python",
   "pygments_lexer": "ipython3",
   "version": "3.8.2"
  }
 },
 "nbformat": 4,
 "nbformat_minor": 4
}
